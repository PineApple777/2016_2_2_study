{
 "cells": [
  {
   "cell_type": "code",
   "execution_count": 2,
   "metadata": {
    "collapsed": false
   },
   "outputs": [
    {
     "name": "stdout",
     "output_type": "stream",
     "text": [
      "2\n",
      "\"mon\"\n",
      "대학일기\n",
      "신의 탑\n",
      "뷰티풀 군바리\n",
      "소녀의 세계\n",
      "평범한 8반\n",
      "마이너스의 손\n",
      "여중생A\n",
      "썸남\n",
      "윈드브레이커\n",
      "이상하고 아름..\n",
      "윈터우즈\n",
      "MZ\n",
      "하루 3컷\n",
      "부부생활\n",
      "가우스전자 시..\n",
      "첩보의 별\n",
      "203호 저승..\n",
      "생활의참견\n",
      "탈(TAL)\n",
      "팀피닉스\n",
      "크리퍼스큘\n",
      "3P\n",
      "동토의 여명\n",
      "히어로메이커\n",
      "나의 인생샷을..\n",
      "\"fri\"\n",
      "외모지상주의\n",
      "한번 더 해요\n",
      "갓 오브 하이..\n",
      "악의는 없다\n",
      "밥 먹고 갈래..\n",
      "결계녀\n",
      "공대생 너무만화\n",
      "더 게이머\n",
      "테러맨\n",
      "아테나 컴플렉스\n",
      "낮에 뜨는 달\n",
      "하루 3컷\n",
      "아일랜드 1부\n",
      "가우스전자 시..\n",
      "덴마\n",
      "오즈랜드\n",
      "조선좀비실록\n",
      "레코닝\n",
      "킬러 김빵빵\n",
      "이별만화 완성도\n",
      "Penguin..\n",
      "헬스툰 시즌1\n",
      "몽홀\n",
      "원티드\n",
      "시노딕\n",
      "진눈깨비 소년\n"
     ]
    }
   ],
   "source": [
    "from bs4 import BeautifulSoup as bs\n",
    "from urllib,request import urlopen\n",
    "rep = int(input())\n",
    "for il in range(rep):\n",
    "    url = input()\n",
    "    res = urlopen('http://comic.naver.com/webtoon/weekdayList.nhn?week=' + url)\n",
    "    content = bs(res,'lxml')\n",
    "    divs = content.body.findAll(\"div\",{ \"class\" : \"list_area\" })\n",
    "    for div in divs :\n",
    "        lis = div.findAll('li')\n",
    "        for li in lis:\n",
    "            dt = li.findAll('dt')\n",
    "            a = dt[0].findAll('a')[0]\n",
    "            print(a.string)"
   ]
  },
  {
   "cell_type": "code",
   "execution_count": null,
   "metadata": {
    "collapsed": true
   },
   "outputs": [],
   "source": []
  }
 ],
 "metadata": {
  "kernelspec": {
   "display_name": "Python 2",
   "language": "python",
   "name": "python2"
  },
  "language_info": {
   "codemirror_mode": {
    "name": "ipython",
    "version": 2
   },
   "file_extension": ".py",
   "mimetype": "text/x-python",
   "name": "python",
   "nbconvert_exporter": "python",
   "pygments_lexer": "ipython2",
   "version": "2.7.12"
  }
 },
 "nbformat": 4,
 "nbformat_minor": 1
}

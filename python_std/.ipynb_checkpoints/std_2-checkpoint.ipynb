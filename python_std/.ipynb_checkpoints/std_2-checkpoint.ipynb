{
 "cells": [
  {
   "cell_type": "code",
   "execution_count": 2,
   "metadata": {
    "collapsed": false
   },
   "outputs": [],
   "source": [
    "from bs4 import BeautifulSoup as bs\n",
    "from urllib.request import urlopen"
   ]
  },
  {
   "cell_type": "code",
   "execution_count": 4,
   "metadata": {
    "collapsed": false,
    "scrolled": true
   },
   "outputs": [
    {
     "name": "stdout",
     "output_type": "stream",
     "text": [
      "2\n",
      "\"wed\"\n",
      "\"fri\"\n",
      "복학왕, 연놈, 고수, 유미의 세포들, 헬퍼 2 : .., 2016 비명, 3인칭, 사이드킥2, 조선왕조실톡, 웃지 않는 개.., 블랙수트, 하루 3컷, 돌아온 럭키짱, 지금 이 순간.., 아일랜드 1부, 가우스전자 시.., 이런 영웅은 .., 언덕 위의 제.., 당신만 몰라!, 나는 귀머거리다, 녹두전, 대작, 만렙소녀 오오라, Penguin.., 하나(HANA), 굿모닝 보스, 에티오피아에서..\n",
      "외모지상주의, 한번 더 해요, 갓 오브 하이.., 밥 먹고 갈래.., 악의는 없다, 결계녀, 공대생 너무만화, 더 게이머, 테러맨, 아테나 컴플렉스, 낮에 뜨는 달, 하루 3컷, 아일랜드 1부, 가우스전자 시.., 덴마, 오즈랜드, 조선좀비실록, 레코닝, 킬러 김빵빵, 이별만화 완성도, Penguin.., 헬스툰 시즌1, 몽홀, 원티드, 시노딕, 진눈깨비 소년\n"
     ]
    }
   ],
   "source": [
    "rep = int(input())\n",
    "dr = []\n",
    "for lx in range(rep):\n",
    "    dr +=[input()]\n",
    "for drs in dr:\n",
    "    url = drs\n",
    "    res = urlopen('http://comic.naver.com/webtoon/weekdayList.nhn?week=' + url)\n",
    "    content = bs(res,'lxml')\n",
    "    divs = content.body.findAll(\"div\",{ \"class\" : \"list_area\" })\n",
    "    for div in divs :\n",
    "        lis = div.findAll('li')\n",
    "        fst = lis[len(lis) - 1].findAll('dt')[0].findAll('a')[0]\n",
    "        for li in lis:\n",
    "            dt = li.findAll('dt')\n",
    "            a = dt[0].findAll('a')[0]\n",
    "            if a == fst:\n",
    "                print(a.string,end=\"\")\n",
    "            else :\n",
    "                print(a.string,end= \", \")"
   ]
  },
  {
   "cell_type": "code",
   "execution_count": 12,
   "metadata": {
    "collapsed": false
   },
   "outputs": [
    {
     "name": "stdout",
     "output_type": "stream",
     "text": [
      "2\n",
      "\"wed\"\n",
      "\"fri\"\n",
      "\"wed\"\n",
      "\"fri\"\n"
     ]
    }
   ],
   "source": [
    "dr = []\n",
    "rep = int(input())\n",
    "for lx in range(rep):\n",
    "    dr += [input()]\n",
    "for dx in dr:\n",
    "    print(dx)"
   ]
  },
  {
   "cell_type": "code",
   "execution_count": null,
   "metadata": {
    "collapsed": true
   },
   "outputs": [],
   "source": []
  }
 ],
 "metadata": {
  "kernelspec": {
   "display_name": "Python 3",
   "language": "python",
   "name": "python3"
  },
  "language_info": {
   "codemirror_mode": {
    "name": "ipython",
    "version": 3
   },
   "file_extension": ".py",
   "mimetype": "text/x-python",
   "name": "python",
   "nbconvert_exporter": "python",
   "pygments_lexer": "ipython3",
   "version": "3.5.2"
  }
 },
 "nbformat": 4,
 "nbformat_minor": 1
}

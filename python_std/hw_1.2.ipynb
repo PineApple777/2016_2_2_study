{
 "cells": [
  {
   "cell_type": "code",
   "execution_count": null,
   "metadata": {
    "collapsed": false
   },
   "outputs": [
    {
     "name": "stdout",
     "output_type": "stream",
     "text": [
      "3\n",
      "1\n",
      "2\n",
      "1\n"
     ]
    }
   ],
   "source": [
    "for p in range(1,101):\n",
    "    x = input()\n",
    "    x = int(x)\n",
    "    if x == 2 :\n",
    "        print (1)\n",
    "    else :\n",
    "        for j in range(2, x) :\n",
    "            if x % j == 0 :\n",
    "                print (0)\n",
    "                break\n",
    "            elif j == x - 1 :\n",
    "                print (1)\n",
    "                break"
   ]
  },
  {
   "cell_type": "code",
   "execution_count": null,
   "metadata": {
    "collapsed": true
   },
   "outputs": [],
   "source": []
  }
 ],
 "metadata": {
  "kernelspec": {
   "display_name": "Python 2",
   "language": "python",
   "name": "python2"
  },
  "language_info": {
   "codemirror_mode": {
    "name": "ipython",
    "version": 2
   },
   "file_extension": ".py",
   "mimetype": "text/x-python",
   "name": "python",
   "nbconvert_exporter": "python",
   "pygments_lexer": "ipython2",
   "version": "2.7.12"
  }
 },
 "nbformat": 4,
 "nbformat_minor": 1
}

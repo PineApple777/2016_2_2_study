{
 "cells": [
  {
   "cell_type": "code",
   "execution_count": 11,
   "metadata": {
    "collapsed": false
   },
   "outputs": [
    {
     "name": "stdout",
     "output_type": "stream",
     "text": [
      "3\n",
      "\"apple 3\"\n",
      "['apple', '3']\n",
      "\"banana 2\"\n",
      "['banana', '2']\n",
      "\"icewall 5\"\n",
      "['icewall', '5']\n",
      "[['apple', 3], ['banana', 2], ['icewall', 5]]\n",
      "5\n",
      "\"a apple 2\"\n",
      "\"m icewall 2\"\n",
      "\"s apple\"\n",
      "5\n",
      "\"s icewall\"\n",
      "3\n",
      "\"s banana\"\n",
      "2\n"
     ]
    }
   ],
   "source": [
    "ary = []\n",
    "box = []\n",
    "x = int(input())\n",
    "for j in range(x):\n",
    "    box = input().split(' ')\n",
    "    box[1] = int(box[1])\n",
    "    ary.append(box) \n",
    "z = int(input())\n",
    "for j in range(z):\n",
    "    g = input().split(' ')\n",
    "    if g[0] == 'a' :\n",
    "        for num in ary :\n",
    "            if g[1] == num[0] :\n",
    "                num[1] += int(g[2])\n",
    "    elif g[0] == 'm' :\n",
    "        for num in ary :\n",
    "            if g[1] == num[0] :\n",
    "                num[1]-=int(g[2])\n",
    "    elif g[0] == 's':\n",
    "        for num in ary :\n",
    "            if g[1] == num[0] :\n",
    "                print (num[1])"
   ]
  }
 ],
 "metadata": {
  "kernelspec": {
   "display_name": "Python 2",
   "language": "python",
   "name": "python2"
  },
  "language_info": {
   "codemirror_mode": {
    "name": "ipython",
    "version": 2
   },
   "file_extension": ".py",
   "mimetype": "text/x-python",
   "name": "python",
   "nbconvert_exporter": "python",
   "pygments_lexer": "ipython2",
   "version": "2.7.12"
  }
 },
 "nbformat": 4,
 "nbformat_minor": 1
}
